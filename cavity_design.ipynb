{
 "cells": [
  {
   "cell_type": "code",
   "execution_count": null,
   "id": "bac7a43b",
   "metadata": {},
   "outputs": [],
   "source": [
    "import numpy as np\n",
    "from scipy.integrate import nquad\n",
    "from scipy.constants import c, epsilon_0, mu_0, hbar, Boltzmann, e, physical_constants\n",
    "\n",
    "from arc import Rubidium85\n",
    "from pint import UnitRegistry, set_application_registry\n",
    "\n",
    "si = UnitRegistry()\n",
    "set_application_registry(si)\n",
    "\n",
    "c = c * si.meter / si.second\n",
    "mu_0 = mu_0 * si.newton / si.ampere**2\n",
    "epsilon_0 = epsilon_0 * si.farad / si.meter\n",
    "hbar = hbar * si.joule * si.second\n",
    "bohr_radius = physical_constants['Bohr radius'][0] * si.meter \n",
    "e = e * si.coulomb\n",
    "atom = Rubidium85()"
   ]
  },
  {
   "cell_type": "markdown",
   "id": "285617c0",
   "metadata": {},
   "source": [
    "We want to find Rydberg transitions that have splittings within some experimentally accessible frequency range. "
   ]
  },
  {
   "cell_type": "code",
   "execution_count": null,
   "id": "eafb7ffd",
   "metadata": {},
   "outputs": [
    {
     "name": "stdout",
     "output_type": "stream",
     "text": [
      "Transition 54S -> 53P at 14.723740706248611 GHz with dipole matrix element -6.212256317590297 kD and Gamma_p 85.99521891024114 kHz\n",
      "Transition 55S -> 54P at 13.918435177654391 GHz with dipole matrix element -6.448119554294987 kD and Gamma_p 82.02938821348332 kHz\n",
      "Transition 56S -> 55P at 13.170797704226624 GHz with dipole matrix element -6.688371356017867 kD and Gamma_p 78.32091984458822 kHz\n",
      "Transition 57S -> 56P at 12.47575773353525 GHz with dipole matrix element -6.9330117254273596 kD and Gamma_p 74.84820511131983 kHz\n",
      "Transition 58S -> 57P at 11.828770402015671 GHz with dipole matrix element -7.182040665740189 kD and Gamma_p 71.59247768904488 kHz\n",
      "Transition 59S -> 58P at 11.225754038777184 GHz with dipole matrix element -7.435458179068937 kD and Gamma_p 68.53631508013063 kHz\n",
      "Transition 60S -> 59P at 10.663036017798007 GHz with dipole matrix element -7.693264268090247 kD and Gamma_p 65.66422400969638 kHz\n",
      "Transition 61S -> 60P at 10.137305724662866 GHz with dipole matrix element -7.9554589348895774 kD and Gamma_p 62.962092789603645 kHz\n",
      "Transition 69S -> 67P at 14.45494407944894 GHz with dipole matrix element -6.19000458914844 kD and Gamma_p 47.10125989566426 kHz\n",
      "Transition 70S -> 68P at 13.829360494338655 GHz with dipole matrix element -6.378174806012295 kD and Gamma_p 45.418951196532795 kHz\n",
      "Transition 71S -> 69P at 13.239362265203889 GHz with dipole matrix element -6.569159863965501 kD and Gamma_p 43.82198913607574 kHz\n",
      "Transition 72S -> 70P at 12.682454606068898 GHz with dipole matrix element -6.762959762237153 kD and Gamma_p 42.30479435902146 kHz\n",
      "Transition 73S -> 71P at 12.156349710668767 GHz with dipole matrix element -6.9595745014510975 kD and Gamma_p 40.862245013742886 kHz\n",
      "Transition 74S -> 72P at 11.658946991707905 GHz with dipole matrix element -7.159004081000043 kD and Gamma_p 39.489617548600606 kHz\n",
      "Transition 75S -> 73P at 11.188315447207522 GHz with dipole matrix element -7.361248502265644 kD and Gamma_p 38.18255077750077 kHz\n",
      "Transition 76S -> 74P at 10.742677899777053 GHz with dipole matrix element -7.566307763071883 kD and Gamma_p 36.937013261570755 kHz\n",
      "Transition 77S -> 75P at 10.32039688794742 GHz with dipole matrix element -7.774181865440036 kD and Gamma_p 35.74927727105135 kHz\n",
      "Transition 93S -> 90P at 14.672516644905494 GHz with dipole matrix element 2.401932343437933 kD and Gamma_p 22.733768635837674 kHz\n",
      "Transition 94S -> 91P at 14.198259032238884 GHz with dipole matrix element 2.455630276311397 kD and Gamma_p 22.140809228528223 kHz\n",
      "Transition 95S -> 92P at 13.744222942932286 GHz with dipole matrix element 2.509882910264063 kD and Gamma_p 21.56983996928599 kHz\n",
      "Transition 96S -> 93P at 13.309341968331319 GHz with dipole matrix element 2.56476579145176 kD and Gamma_p 21.01976507389634 kHz\n",
      "Transition 97S -> 94P at 12.892616482330167 GHz with dipole matrix element 2.620241569941051 kD and Gamma_p 20.489605080164008 kHz\n",
      "Transition 98S -> 95P at 12.4931088125145 GHz with dipole matrix element 2.676310261058001 kD and Gamma_p 19.978427893792755 kHz\n",
      "Transition 99S -> 96P at 12.109938806266694 GHz with dipole matrix element 2.7329718272321895 kD and Gamma_p 19.485352767868996 kHz\n"
     ]
    }
   ],
   "source": [
    "def find_suitable_transitions(frequency_bounds, max_n=100):\n",
    "    suitable_transitions = []\n",
    "    # nS -> nP transitions\n",
    "    for i in range(6, max_n):\n",
    "        for j in range(i+1, max_n):\n",
    "            l1 = 2\n",
    "            l2 = 3\n",
    "            j1 = 2.5\n",
    "            j2 = 3.5\n",
    "\n",
    "            frequency = np.abs(atom.getTransitionFrequency(j, l1, j1, i, l2, j2)) * si.hertz\n",
    "            if frequency > frequency_bounds[0] and frequency < frequency_bounds[1]:\n",
    "                suitable_transitions.append([j, i, frequency])\n",
    "\n",
    "    return suitable_transitions\n",
    "\n",
    "def get_transition_parameters(n1, n2, temperature_K=300):\n",
    "    l1 = 2\n",
    "    l2 = 3\n",
    "    j1 = 2.5\n",
    "    j2 = 3.5\n",
    "    mj1 = j1\n",
    "    mj2 = j2\n",
    "    \n",
    "    dipole_matrix_element = atom.getDipoleMatrixElement(n1, l1, j1, mj1, n2, l2, j2, mj2, s=0.5, q=1)\n",
    "    dipole_matrix_element_SI = dipole_matrix_element * bohr_radius * e\n",
    "\n",
    "    tau1 = atom.getStateLifetime(n1, l1, j1, temperature_K, includeLevelsUpTo=150) * si.second\n",
    "    tau2 = atom.getStateLifetime(n2, l2, j2, temperature_K, includeLevelsUpTo=150) * si.second\n",
    "\n",
    "    Gamma_p = 0.5 * (1.0/tau1  + 1.0/tau2) * 2 * np.pi\n",
    "    return dipole_matrix_element_SI, Gamma_p\n",
    "\n",
    "suitable_transitions = [{\"n1\": t[0], \"n2\": t[1], \"frequency\": t[2]} for t in find_suitable_transitions([10 * si.gigahertz, 15 * si.gigahertz])]\n",
    "for transition in suitable_transitions:\n",
    "    dipole_matrix_element, Gamma_p = get_transition_parameters(transition[\"n1\"], transition[\"n2\"])\n",
    "    transition[\"dipole_matrix_element\"] = dipole_matrix_element.to(si.debye)\n",
    "    transition[\"Gamma_p\"] = Gamma_p.to(si.hertz)\n",
    "    print(f\"Transition {transition[\"n1\"]}D -> {transition[\"n2\"]}F at {transition[\"frequency\"]:#~P} with dipole matrix element {transition[\"dipole_matrix_element\"]:#~P} and Gamma_p {transition[\"Gamma_p\"]:#~P}\")"
   ]
  },
  {
   "cell_type": "markdown",
   "id": "295e71ba",
   "metadata": {},
   "source": [
    "Now, we can pick one of these transitions (and some TE mode (m,n,p)) and design a cavity for it. The cavity will have rectangular dimensions A x B x C, defined by the frequency / wavelength of the transition:\n",
    "$$\\lambda_c = \\frac{c}{\\nu_c}$$\n",
    "\n",
    "$$\\nu_c = \\frac{c}{2} \\sqrt{\\left(\\frac{m}{A}\\right)^2 + \\left(\\frac{n}{B}\\right)^2 + \\left(\\frac{p}{C}\\right)^2}$$\n",
    "\n",
    "There are infinitely many choices of dimensions for any given wavelength, but we can fix some aspect ratio to simplify the choices.\n"
   ]
  },
  {
   "cell_type": "code",
   "execution_count": 37,
   "id": "fb00bd4e",
   "metadata": {},
   "outputs": [
    {
     "name": "stdout",
     "output_type": "stream",
     "text": [
      "Frequency: 10.137305724662866 GHz, Dipole matrix element: -7.9554589348895774 kD\n",
      "a=18.655244726432134 mm\n",
      "b=18.655244726432134 mm\n",
      "d=24.251818144361778 mm\n"
     ]
    }
   ],
   "source": [
    "def cavity_dims_from_aspect_ratios(f_c, m, n, p, r_ab=1.0, r_db=1.3):\n",
    "    K = 2.0*f_c/c\n",
    "    num = (m/r_ab)**2 + n**2 + (p/r_db)**2\n",
    "    b = np.sqrt(num)/K\n",
    "    a = r_ab*b\n",
    "    d = r_db*b\n",
    "    return a.to(si.meter), b.to(si.meter), d.to(si.meter)\n",
    "\n",
    "transition = max(suitable_transitions, key=lambda t: np.abs(t['dipole_matrix_element']))\n",
    "f_c = transition['frequency']\n",
    "\n",
    "print (f\"Frequency: {f_c:#~P}, Dipole matrix element: {transition['dipole_matrix_element']:#~P}\")\n",
    "\n",
    "m, n, p = 1, 0, 1\n",
    "a, b, d = cavity_dims_from_aspect_ratios(f_c, m, n, p)\n",
    "\n",
    "print (f\"a={a:#~P}\\nb={b:#~P}\\nd={d:#~P}\")\n",
    "\n",
    "kx = m * np.pi / a\n",
    "ky = n * np.pi / b\n",
    "kz = p * np.pi / d\n"
   ]
  },
  {
   "cell_type": "markdown",
   "id": "32519065",
   "metadata": {},
   "source": [
    "According to \"[Generalized effective mode volume for leaky optical cavities](https://opg.optica.org/ol/fulltext.cfm?uri=ol-37-10-1649&id=233159)\", effective mode volume is:\n",
    "\n",
    "$$V_{\\mathrm{eff}}^{\\mathrm{N}}(\\mathbf{r}_{\\mathrm{c}})=\\frac{\\int_V \\epsilon_{\\mathrm{r}}(\\mathbf{r})\\left|\\tilde{\\mathbf{f}}_{\\mathrm{c}}(\\mathbf{r})\\right|^2  \\mathrm{~d} \\mathbf{r}}{\\epsilon_{\\mathrm{r}}\\left(\\mathbf{r}_{\\mathrm{c}}\\right)\\left|\\tilde{\\mathbf{f}}_{\\mathrm{c}}\\left(\\mathbf{r}_{\\mathrm{c}}\\right)\\right|^2}$$\n",
    "\n",
    "In vacuum, our permittivity is constant, so we have:\n",
    "\n",
    "$$= V_{\\mathrm{eff}}^{\\mathrm{N}}(\\mathbf{r}_{\\mathrm{c}})=\\frac{\\int_V \\left|\\tilde{\\mathbf{f}}_{\\mathrm{c}}(\\mathbf{r})\\right|^2  \\mathrm{~d} \\mathbf{r}}{\\left|\\tilde{\\mathbf{f}}_{\\mathrm{c}}\\left(\\mathbf{r}_{\\mathrm{c}}\\right)\\right|^2}$$\n",
    "\n",
    "The cavity mode has some prefactors but we can ignore them because they will cancel in the effective mode volume calculation."
   ]
  },
  {
   "cell_type": "code",
   "execution_count": null,
   "id": "496af63c",
   "metadata": {},
   "outputs": [
    {
     "name": "stdout",
     "output_type": "stream",
     "text": [
      "Effective mode volume at cavity center:  2110.0182563680787 millimeter ** 3\n"
     ]
    }
   ],
   "source": [
    "# annoyingly the numerical integration cannot handle units\n",
    "# make sure everything is in meters\n",
    "def TE_cavity_mode_normalized(kx, ky, kz):\n",
    "    Ex = lambda x, y, z: (np.cos(kx.to(1 / si.meter).magnitude * x) * np.sin(ky.to(1 / si.meter).magnitude * y) * np.cos(kz.to(1 / si.meter).magnitude * z))\n",
    "    Ey = lambda x, y, z: (np.sin(kx.to(1 / si.meter).magnitude * x) * np.cos(ky.to(1 / si.meter).magnitude * y) * np.sin(kz.to(1 / si.meter).magnitude * z))\n",
    "    Ez = lambda x, y, z: 0\n",
    "    return [Ex, Ey, Ez]\n",
    "\n",
    "def TE_cavity_mode_intensity(kx, ky, kz):\n",
    "    Ex, Ey, Ez = TE_cavity_mode_normalized(kx, ky, kz)\n",
    "    I = lambda x, y, z: Ex(x, y, z)**2 + Ey(x, y, z)**2 + Ez(x, y, z)**2\n",
    "    return I\n",
    "\n",
    "def box_integral_nquad(kx, ky, kz, a, b, d, epsabs=1e-10, epsrel=1e-10):\n",
    "    f = TE_cavity_mode_intensity(kx, ky, kz)\n",
    "    res, err = nquad(f, [[0, a.to(si.meter).magnitude], [0, b.to(si.meter).magnitude], [0, d.to(si.meter).magnitude]], opts={'epsabs': epsabs, 'epsrel': epsrel})\n",
    "    return res, err\n",
    "\n",
    "# this is a function of (x,y,z)\n",
    "def V_eff(kx, ky, kz, a, b, d):\n",
    "    IE, IE_err = box_integral_nquad(kx, ky, kz, a, b, d)\n",
    "    I_c = TE_cavity_mode_intensity(kx, ky, kz)\n",
    "    return lambda x, y, z: (IE * si.meter**3) / I_c(x.to(si.meter).magnitude, y.to(si.meter).magnitude, z.to(si.meter).magnitude)\n",
    "\n",
    "cavity_center = (a/2, b/2, d/2)\n",
    "cavity_Veff = V_eff(kx, ky, kz, a, b, d)\n",
    "Veff = cavity_Veff(cavity_center[0], cavity_center[1], cavity_center[2])\n",
    "print (\"Effective mode volume at cavity center: \", Veff.to(si.millimeter**3))"
   ]
  },
  {
   "cell_type": "markdown",
   "id": "296ff4a4",
   "metadata": {},
   "source": [
    "The zero-point electric field $E_{zpf}$ is given by:\n",
    "$$E_{zpf}(\\mathbf{r}_{\\mathrm{c}}) = \\sqrt{\\frac{\\hbar \\omega_c}{2 \\epsilon_0 V_{eff}}}$$\n",
    "\n",
    "where $\\omega_c$ is the cavity resonance frequency, $\\epsilon_0$ is the vacuum permittivity, and $V_{eff}$ is the effective mode volume. \n",
    "\n",
    "The single-atom coupling rate $g_0$ is given by:\n",
    "$$g_0(\\mathbf{r}_{\\mathrm{c}}) = \\frac{\\mu E_{zpf}(\\mathbf{r}_{\\mathrm{c}})}{\\hbar \\eta_{pol}}$$\n",
    "\n",
    "where $\\mu$ is the electric dipole matrix element for the given Rydberg transition (nS -> mP etc), from ARC, and $\\eta_{pol}$ is the polarization overlap (which we may assume to be 1). "
   ]
  },
  {
   "cell_type": "code",
   "execution_count": 106,
   "id": "e6e990b4",
   "metadata": {},
   "outputs": [
    {
     "name": "stdout",
     "output_type": "stream",
     "text": [
      "0.4239911752442864 millivolt / meter\n",
      "106.69036276042222 kilohertz\n"
     ]
    }
   ],
   "source": [
    "def E_zpf(omega_c, cavity_Veff):\n",
    "    return lambda x,y,z: np.sqrt(hbar * omega_c / (2 * epsilon_0 * cavity_Veff(x,y,z)))\n",
    "\n",
    "# needs units\n",
    "def g_0(mu, omega_c, cavity_Veff, eta_pol=1):\n",
    "    return lambda x,y,z: mu * E_zpf(omega_c, cavity_Veff)(x,y,z) / (hbar * eta_pol)\n",
    "\n",
    "mu = np.abs(transition['dipole_matrix_element'])\n",
    "omega_c = 2 * np.pi * f_c\n",
    "print (E_zpf(omega_c, cavity_Veff)(cavity_center[0],cavity_center[1],cavity_center[2]).to(si.millivolt / si.meter))\n",
    "print (g_0(mu, omega_c, cavity_Veff)(cavity_center[0],cavity_center[1],cavity_center[2]).to(si.kilohertz))\n"
   ]
  },
  {
   "cell_type": "markdown",
   "id": "b64ab5a5",
   "metadata": {},
   "source": [
    "The last thing we would like to calculate is required driving power for the transition from the 5P state to the Rydberg state. This can be done through ARC."
   ]
  },
  {
   "cell_type": "code",
   "execution_count": 123,
   "id": "a387c11f",
   "metadata": {},
   "outputs": [
    {
     "name": "stdout",
     "output_type": "stream",
     "text": [
      "0.23942603675121082 watt\n"
     ]
    }
   ],
   "source": [
    "driving_power = atom.getDrivingPower(\n",
    "    n1 = 5, # --> 5P\n",
    "    l1 = 1, # 5P <--\n",
    "    j1 = 1.5, # 1 unit of orbital and 0.5 of spin\n",
    "    mj1 = 1.5, # degenerate? \n",
    "    n2 = transition['n1'], # the lower Rydberg state\n",
    "    l2 = 2, # we just assumed this\n",
    "    j2 = 2.5,\n",
    "    mj2 = 2.5,\n",
    "    q = 1, # right-hand circular polarization, also arbitrary\n",
    "    rabiFrequency = 5e6, # this is the Rabi frequency we want\n",
    "    laserWaist = 0.002, # 2mm\n",
    ")\n",
    "\n",
    "print (driving_power * si.watt) "
   ]
  }
 ],
 "metadata": {
  "kernelspec": {
   "display_name": ".venv",
   "language": "python",
   "name": "python3"
  },
  "language_info": {
   "codemirror_mode": {
    "name": "ipython",
    "version": 3
   },
   "file_extension": ".py",
   "mimetype": "text/x-python",
   "name": "python",
   "nbconvert_exporter": "python",
   "pygments_lexer": "ipython3",
   "version": "3.12.11"
  }
 },
 "nbformat": 4,
 "nbformat_minor": 5
}

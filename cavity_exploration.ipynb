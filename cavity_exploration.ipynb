{
 "cells": [
  {
   "cell_type": "code",
   "execution_count": 1,
   "id": "641c0500",
   "metadata": {},
   "outputs": [],
   "source": [
    "import numpy as np\n",
    "from scipy.constants import c, epsilon_0, mu_0, hbar, Boltzmann, e, physical_constants\n",
    "from pint import UnitRegistry, set_application_registry\n",
    "ureg = UnitRegistry()\n",
    "set_application_registry(ureg)\n",
    "from arc import Rubidium85\n",
    "\n",
    "from cavities import find_suitable_transitions, get_transition_parameters, cavity_dims_from_aspect_ratios, Cavity\n",
    "\n",
    "atom = Rubidium85()\n",
    "c = c * ureg.meter / ureg.second\n",
    "mu_0 = mu_0 * ureg.newton / ureg.ampere**2\n",
    "epsilon_0 = epsilon_0 * ureg.farad / ureg.meter\n",
    "hbar = hbar * ureg.joule * ureg.second\n",
    "bohr_radius = physical_constants['Bohr radius'][0] * ureg.meter \n",
    "e = e * ureg.coulomb\n"
   ]
  },
  {
   "cell_type": "code",
   "execution_count": 4,
   "id": "c7b432f1",
   "metadata": {},
   "outputs": [
    {
     "name": "stdout",
     "output_type": "stream",
     "text": [
      "Transition 54D -> 53F at 14.723740706248611 GHz with dipole matrix element -6.212256317590297 kD and Gamma_p 85.99521891024114 kHz\n"
     ]
    },
    {
     "name": "stderr",
     "output_type": "stream",
     "text": [
      "/Users/muon/Documents/QPG/mwcav-manual/.venv/lib/python3.12/site-packages/pint/facets/plain/quantity.py:1007: RuntimeWarning: divide by zero encountered in divide\n",
      "  magnitude = magnitude_op(self._magnitude, other_magnitude)\n"
     ]
    },
    {
     "name": "stdout",
     "output_type": "stream",
     "text": [
      "Transition 55D -> 54F at 13.918435177654391 GHz with dipole matrix element -6.448119554294987 kD and Gamma_p 82.02938821348332 kHz\n",
      "Transition 56D -> 55F at 13.170797704226624 GHz with dipole matrix element -6.688371356017867 kD and Gamma_p 78.32091984458822 kHz\n",
      "Transition 57D -> 56F at 12.47575773353525 GHz with dipole matrix element -6.9330117254273596 kD and Gamma_p 74.84820511131983 kHz\n",
      "Transition 58D -> 57F at 11.828770402015671 GHz with dipole matrix element -7.182040665740189 kD and Gamma_p 71.59247768904488 kHz\n",
      "Transition 59D -> 58F at 11.225754038777184 GHz with dipole matrix element -7.435458179068937 kD and Gamma_p 68.53631508013063 kHz\n",
      "Transition 60D -> 59F at 10.663036017798007 GHz with dipole matrix element -7.693264268090247 kD and Gamma_p 65.66422400969638 kHz\n",
      "Transition 61D -> 60F at 10.137305724662866 GHz with dipole matrix element -7.9554589348895774 kD and Gamma_p 62.962092789603645 kHz\n",
      "Transition 69D -> 67F at 14.45494407944894 GHz with dipole matrix element -6.19000458914844 kD and Gamma_p 47.10125989566426 kHz\n",
      "Transition 70D -> 68F at 13.829360494338655 GHz with dipole matrix element -6.378174806012295 kD and Gamma_p 45.418951196532795 kHz\n",
      "Transition 71D -> 69F at 13.239362265203889 GHz with dipole matrix element -6.569159863965501 kD and Gamma_p 43.82198913607574 kHz\n",
      "Transition 72D -> 70F at 12.682454606068898 GHz with dipole matrix element -6.762959762237153 kD and Gamma_p 42.30479435902146 kHz\n",
      "Transition 73D -> 71F at 12.156349710668767 GHz with dipole matrix element -6.9595745014510975 kD and Gamma_p 40.862245013742886 kHz\n",
      "Transition 74D -> 72F at 11.658946991707905 GHz with dipole matrix element -7.159004081000043 kD and Gamma_p 39.489617548600606 kHz\n",
      "Transition 75D -> 73F at 11.188315447207522 GHz with dipole matrix element -7.361248502265644 kD and Gamma_p 38.18255077750077 kHz\n",
      "Transition 76D -> 74F at 10.742677899777053 GHz with dipole matrix element -7.566307763071883 kD and Gamma_p 36.937013261570755 kHz\n",
      "Transition 77D -> 75F at 10.32039688794742 GHz with dipole matrix element -7.774181865440036 kD and Gamma_p 35.74927727105135 kHz\n",
      "Transition 93D -> 90F at 14.672516644905494 GHz with dipole matrix element 2.401932343437933 kD and Gamma_p 22.733768635837674 kHz\n",
      "Transition 94D -> 91F at 14.198259032238884 GHz with dipole matrix element 2.455630276311397 kD and Gamma_p 22.140809228528223 kHz\n",
      "Transition 95D -> 92F at 13.744222942932286 GHz with dipole matrix element 2.509882910264063 kD and Gamma_p 21.56983996928599 kHz\n",
      "Transition 96D -> 93F at 13.309341968331319 GHz with dipole matrix element 2.56476579145176 kD and Gamma_p 21.01976507389634 kHz\n",
      "Transition 97D -> 94F at 12.892616482330167 GHz with dipole matrix element 2.620241569941051 kD and Gamma_p 20.489605080164008 kHz\n",
      "Transition 98D -> 95F at 12.4931088125145 GHz with dipole matrix element 2.676310261058001 kD and Gamma_p 19.978427893792755 kHz\n",
      "Transition 99D -> 96F at 12.109938806266694 GHz with dipole matrix element 2.7329718272321895 kD and Gamma_p 19.485352767868996 kHz\n"
     ]
    }
   ],
   "source": [
    "m, n, p = 1, 0, 1\n",
    "\n",
    "suitable_transitions = [{\"n1\": t[0], \"n2\": t[1], \"frequency\": t[2]} for t in find_suitable_transitions([10 * ureg.gigahertz, 15 * ureg.gigahertz])]\n",
    "for transition in suitable_transitions:\n",
    "    dipole_matrix_element, Gamma_p = get_transition_parameters(transition[\"n1\"], transition[\"n2\"])\n",
    "    transition[\"dipole_matrix_element\"] = dipole_matrix_element.to(ureg.debye)\n",
    "    transition[\"Gamma_p\"] = Gamma_p.to(ureg.kilohertz)\n",
    "    print(f\"Transition {transition[\"n1\"]}D -> {transition[\"n2\"]}F at {transition[\"frequency\"]:#~P} with dipole matrix element {transition[\"dipole_matrix_element\"]:#~P} and Gamma_p {transition[\"Gamma_p\"]:#~P}\")\n",
    "\n",
    "    a, b, d = cavity_dims_from_aspect_ratios(transition[\"frequency\"], m, n, p)\n",
    "    cavity = Cavity(a, b, d, transition[\"frequency\"], (m, n, p), 1e5, mu=transition[\"dipole_matrix_element\"])\n",
    "\n",
    "    g_0_max, g_0_avg, V_eff_max, V_eff_avg, E_zpf_max, E_zpf_avg = cavity.cavity_statistics()\n",
    "    transition[\"|g_0_max|\"] = g_0_max.to(ureg.kilohertz)\n",
    "    transition[\"g_0_avg\"] = g_0_avg.to(ureg.kilohertz)\n",
    "    # transition[\"|V_eff_max|\"] = V_eff_max.to(ureg.millimeter**3)\n",
    "    # transition[\"V_eff_avg\"] = V_eff_avg.to(ureg.millimeter**3)\n",
    "    transition[\"|E_zpf_max|\"] = E_zpf_max.to(ureg.millivolt / ureg.centimeter)\n",
    "    transition[\"E_zpf_avg\"] = E_zpf_avg.to(ureg.millivolt / ureg.centimeter)\n",
    "\n",
    "    driving_power = atom.getDrivingPower(\n",
    "        n1 = 5, # --> 5P\n",
    "        l1 = 1, # 5P <--\n",
    "        j1 = 1.5, # 1 unit of orbital and 0.5 of spin\n",
    "        mj1 = 1.5, # degenerate? \n",
    "        n2 = transition['n1'], # the lower Rydberg state\n",
    "        l2 = 2, # we just assumed this\n",
    "        j2 = 2.5,\n",
    "        mj2 = 2.5,\n",
    "        q = 1, # right-hand circular polarization, also arbitrary\n",
    "        rabiFrequency = 5e6, # this is the Rabi frequency we want\n",
    "        laserWaist = 0.002, # 2mm\n",
    "    )\n",
    "\n",
    "    transition[\"driving_power\"] = (driving_power * ureg.watt).to(ureg.milliwatt)\n",
    "    # print(f\"g_0 max: {g_0_max:#~P}, min: {g_0_min:#~P}, avg: {g_0_avg:#~P}\")\n",
    "    # print(f\"V_eff max: {V_eff_max:#~P}, min: {V_eff_min:#~P}, avg: {V_eff_avg:#~P}\")\n",
    "    # print(f\"E_zpf max: {E_zpf_max:#~P}, min: {E_zpf_min:#~P}, avg: {E_zpf_avg:#~P}\")\n"
   ]
  },
  {
   "cell_type": "code",
   "execution_count": null,
   "id": "c427c7ae",
   "metadata": {},
   "outputs": [],
   "source": [
    "import plotly.graph_objects as go\n",
    "\n",
    "# Create table from suitable_transitions\n",
    "def format_header(key, sample_value):\n",
    "    \"\"\"Format header with units in parentheses\"\"\"\n",
    "    if hasattr(sample_value, 'units'):\n",
    "        return f\"{key} ({sample_value.units:~})\"\n",
    "    else:\n",
    "        return key\n",
    "\n",
    "def format_value_magnitude(value):\n",
    "    \"\"\"Format value showing only magnitude for Pint quantities\"\"\"\n",
    "    if hasattr(value, 'magnitude'):\n",
    "        return f\"{value.magnitude:.3g}\"\n",
    "    else:\n",
    "        return str(value)\n",
    "\n",
    "fig = go.Figure(data=[go.Table(\n",
    "    header=dict(values=[format_header(key, suitable_transitions[0][key]) for key in suitable_transitions[0].keys()],\n",
    "                fill_color='paleturquoise',\n",
    "                align='left'),\n",
    "    cells=dict(values=[[format_value_magnitude(d[key]) for d in suitable_transitions] for key in suitable_transitions[0].keys()],\n",
    "               fill_color='lavender',\n",
    "               align='left'),\n",
    "    columnwidth=[1, 1, 2, 2, 2, 3, 3, 3, 3, 3, 3, 3, 3, 3]\n",
    ")])\n",
    "\n",
    "\n",
    "fig.show()\n",
    "fig.write_html(\"cavity_exploration.html\")\n"
   ]
  }
 ],
 "metadata": {
  "kernelspec": {
   "display_name": ".venv",
   "language": "python",
   "name": "python3"
  },
  "language_info": {
   "codemirror_mode": {
    "name": "ipython",
    "version": 3
   },
   "file_extension": ".py",
   "mimetype": "text/x-python",
   "name": "python",
   "nbconvert_exporter": "python",
   "pygments_lexer": "ipython3",
   "version": "3.12.11"
  }
 },
 "nbformat": 4,
 "nbformat_minor": 5
}

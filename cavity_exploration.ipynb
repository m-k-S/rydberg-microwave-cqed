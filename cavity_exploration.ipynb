{
 "cells": [
  {
   "cell_type": "code",
   "execution_count": 1,
   "id": "641c0500",
   "metadata": {},
   "outputs": [],
   "source": [
    "import numpy as np\n",
    "from scipy.constants import c, epsilon_0, mu_0, hbar, Boltzmann, e, physical_constants\n",
    "from pint import UnitRegistry, set_application_registry\n",
    "ureg = UnitRegistry()\n",
    "set_application_registry(ureg)\n",
    "from arc import Rubidium85\n",
    "\n",
    "from cavities import find_suitable_transitions, get_transition_parameters, cavity_dims_from_aspect_ratios, Cavity\n",
    "\n",
    "atom = Rubidium85()\n",
    "c = c * ureg.meter / ureg.second\n",
    "mu_0 = mu_0 * ureg.newton / ureg.ampere**2\n",
    "epsilon_0 = epsilon_0 * ureg.farad / ureg.meter\n",
    "hbar = hbar * ureg.joule * ureg.second\n",
    "bohr_radius = physical_constants['Bohr radius'][0] * ureg.meter \n",
    "e = e * ureg.coulomb\n"
   ]
  },
  {
   "cell_type": "code",
   "execution_count": 6,
   "id": "c7b432f1",
   "metadata": {},
   "outputs": [
    {
     "name": "stdout",
     "output_type": "stream",
     "text": [
      "Transition 54D -> 53F at 14.723740706248611 GHz with dipole matrix element -6.212256317590297 kD and Gamma_p 85.99521891024114 kHz\n"
     ]
    },
    {
     "name": "stderr",
     "output_type": "stream",
     "text": [
      "/Users/muon/Documents/QPG/mwcav-manual/.venv/lib/python3.12/site-packages/pint/facets/plain/quantity.py:1007: RuntimeWarning:\n",
      "\n",
      "divide by zero encountered in divide\n",
      "\n"
     ]
    },
    {
     "name": "stdout",
     "output_type": "stream",
     "text": [
      "Transition 55D -> 54F at 13.918435177654391 GHz with dipole matrix element -6.448119554294987 kD and Gamma_p 82.02938821348332 kHz\n",
      "Transition 56D -> 55F at 13.170797704226624 GHz with dipole matrix element -6.688371356017867 kD and Gamma_p 78.32091984458822 kHz\n",
      "Transition 57D -> 56F at 12.47575773353525 GHz with dipole matrix element -6.9330117254273596 kD and Gamma_p 74.84820511131983 kHz\n",
      "Transition 58D -> 57F at 11.828770402015671 GHz with dipole matrix element -7.182040665740189 kD and Gamma_p 71.59247768904488 kHz\n",
      "Transition 59D -> 58F at 11.225754038777184 GHz with dipole matrix element -7.435458179068937 kD and Gamma_p 68.53631508013063 kHz\n",
      "Transition 60D -> 59F at 10.663036017798007 GHz with dipole matrix element -7.693264268090247 kD and Gamma_p 65.66422400969638 kHz\n",
      "Transition 61D -> 60F at 10.137305724662866 GHz with dipole matrix element -7.9554589348895774 kD and Gamma_p 62.962092789603645 kHz\n",
      "Transition 69D -> 67F at 14.45494407944894 GHz with dipole matrix element -6.19000458914844 kD and Gamma_p 47.10125989566426 kHz\n",
      "Transition 70D -> 68F at 13.829360494338655 GHz with dipole matrix element -6.378174806012295 kD and Gamma_p 45.418951196532795 kHz\n",
      "Transition 71D -> 69F at 13.239362265203889 GHz with dipole matrix element -6.569159863965501 kD and Gamma_p 43.82198913607574 kHz\n",
      "Transition 72D -> 70F at 12.682454606068898 GHz with dipole matrix element -6.762959762237153 kD and Gamma_p 42.30479435902146 kHz\n",
      "Transition 73D -> 71F at 12.156349710668767 GHz with dipole matrix element -6.9595745014510975 kD and Gamma_p 40.862245013742886 kHz\n",
      "Transition 74D -> 72F at 11.658946991707905 GHz with dipole matrix element -7.159004081000043 kD and Gamma_p 39.489617548600606 kHz\n",
      "Transition 75D -> 73F at 11.188315447207522 GHz with dipole matrix element -7.361248502265644 kD and Gamma_p 38.18255077750077 kHz\n",
      "Transition 76D -> 74F at 10.742677899777053 GHz with dipole matrix element -7.566307763071883 kD and Gamma_p 36.937013261570755 kHz\n",
      "Transition 77D -> 75F at 10.32039688794742 GHz with dipole matrix element -7.774181865440036 kD and Gamma_p 35.74927727105135 kHz\n",
      "Transition 93D -> 90F at 14.672516644905494 GHz with dipole matrix element 2.401932343437933 kD and Gamma_p 22.733768635837674 kHz\n",
      "Transition 94D -> 91F at 14.198259032238884 GHz with dipole matrix element 2.455630276311397 kD and Gamma_p 22.140809228528223 kHz\n",
      "Transition 95D -> 92F at 13.744222942932286 GHz with dipole matrix element 2.509882910264063 kD and Gamma_p 21.56983996928599 kHz\n",
      "Transition 96D -> 93F at 13.309341968331319 GHz with dipole matrix element 2.56476579145176 kD and Gamma_p 21.01976507389634 kHz\n",
      "Transition 97D -> 94F at 12.892616482330167 GHz with dipole matrix element 2.620241569941051 kD and Gamma_p 20.489605080164008 kHz\n",
      "Transition 98D -> 95F at 12.4931088125145 GHz with dipole matrix element 2.676310261058001 kD and Gamma_p 19.978427893792755 kHz\n",
      "Transition 99D -> 96F at 12.109938806266694 GHz with dipole matrix element 2.7329718272321895 kD and Gamma_p 19.485352767868996 kHz\n"
     ]
    }
   ],
   "source": [
    "m, n, p = 1, 0, 1\n",
    "\n",
    "suitable_transitions = [{\"n1\": t[0], \"n2\": t[1], \"frequency\": t[2]} for t in find_suitable_transitions([10 * ureg.gigahertz, 15 * ureg.gigahertz])]\n",
    "for transition in suitable_transitions:\n",
    "    dipole_matrix_element, Gamma_p = get_transition_parameters(transition[\"n1\"], transition[\"n2\"])\n",
    "    transition[\"dipole_matrix_element\"] = dipole_matrix_element.to(ureg.debye)\n",
    "    transition[\"Gamma_p\"] = Gamma_p.to(ureg.kilohertz)\n",
    "    print(f\"Transition {transition[\"n1\"]}D -> {transition[\"n2\"]}F at {transition[\"frequency\"]:#~P} with dipole matrix element {transition[\"dipole_matrix_element\"]:#~P} and Gamma_p {transition[\"Gamma_p\"]:#~P}\")\n",
    "\n",
    "    a, b, d = cavity_dims_from_aspect_ratios(transition[\"frequency\"], m, n, p)\n",
    "    cavity = Cavity(a, b, d, transition[\"frequency\"], (m, n, p), 1e5, mu=transition[\"dipole_matrix_element\"])\n",
    "\n",
    "    g_0_max, g_0_avg, V_eff_max, V_eff_avg, E_zpf_max, E_zpf_avg = cavity.cavity_statistics()\n",
    "    transition[\"|g_0_max|\"] = g_0_max.to(ureg.kilohertz)\n",
    "    transition[\"g_0_avg\"] = g_0_avg.to(ureg.kilohertz)\n",
    "    # transition[\"|V_eff_max|\"] = V_eff_max.to(ureg.millimeter**3)\n",
    "    # transition[\"V_eff_avg\"] = V_eff_avg.to(ureg.millimeter**3)\n",
    "    transition[\"|E_zpf_max|\"] = E_zpf_max.to(ureg.millivolt / ureg.centimeter)\n",
    "    transition[\"E_zpf_avg\"] = E_zpf_avg.to(ureg.millivolt / ureg.centimeter)\n",
    "\n",
    "    driving_power = atom.getDrivingPower(\n",
    "        n1 = 5, # --> 5P\n",
    "        l1 = 1, # 5P <--\n",
    "        j1 = 1.5, # 1 unit of orbital and 0.5 of spin\n",
    "        mj1 = 1.5, # degenerate? \n",
    "        n2 = transition['n1'], # the lower Rydberg state\n",
    "        l2 = 2, # we just assumed this\n",
    "        j2 = 2.5,\n",
    "        mj2 = 2.5,\n",
    "        q = 1, # right-hand circular polarization, also arbitrary\n",
    "        rabiFrequency = 5e6, # this is the Rabi frequency we want\n",
    "        laserWaist = 0.0005, # 2mm\n",
    "    )\n",
    "\n",
    "    transition[\"driving_power\"] = (driving_power * ureg.watt).to(ureg.milliwatt)\n",
    "    # print(f\"g_0 max: {g_0_max:#~P}, min: {g_0_min:#~P}, avg: {g_0_avg:#~P}\")\n",
    "    # print(f\"V_eff max: {V_eff_max:#~P}, min: {V_eff_min:#~P}, avg: {V_eff_avg:#~P}\")\n",
    "    # print(f\"E_zpf max: {E_zpf_max:#~P}, min: {E_zpf_min:#~P}, avg: {E_zpf_avg:#~P}\")\n"
   ]
  },
  {
   "cell_type": "code",
   "execution_count": 7,
   "id": "c427c7ae",
   "metadata": {},
   "outputs": [
    {
     "data": {
      "application/vnd.plotly.v1+json": {
       "config": {
        "plotlyServerURL": "https://plot.ly"
       },
       "data": [
        {
         "cells": {
          "align": "left",
          "fill": {
           "color": "lavender"
          },
          "values": [
           [
            "54",
            "55",
            "56",
            "57",
            "58",
            "59",
            "60",
            "61",
            "69",
            "70",
            "71",
            "72",
            "73",
            "74",
            "75",
            "76",
            "77",
            "93",
            "94",
            "95",
            "96",
            "97",
            "98",
            "99"
           ],
           [
            "53",
            "54",
            "55",
            "56",
            "57",
            "58",
            "59",
            "60",
            "67",
            "68",
            "69",
            "70",
            "71",
            "72",
            "73",
            "74",
            "75",
            "90",
            "91",
            "92",
            "93",
            "94",
            "95",
            "96"
           ],
           [
            "14.7",
            "13.9",
            "13.2",
            "12.5",
            "11.8",
            "11.2",
            "10.7",
            "10.1",
            "14.5",
            "13.8",
            "13.2",
            "12.7",
            "12.2",
            "11.7",
            "11.2",
            "10.7",
            "10.3",
            "14.7",
            "14.2",
            "13.7",
            "13.3",
            "12.9",
            "12.5",
            "12.1"
           ],
           [
            "-6.21e+03",
            "-6.45e+03",
            "-6.69e+03",
            "-6.93e+03",
            "-7.18e+03",
            "-7.44e+03",
            "-7.69e+03",
            "-7.96e+03",
            "-6.19e+03",
            "-6.38e+03",
            "-6.57e+03",
            "-6.76e+03",
            "-6.96e+03",
            "-7.16e+03",
            "-7.36e+03",
            "-7.57e+03",
            "-7.77e+03",
            "2.4e+03",
            "2.46e+03",
            "2.51e+03",
            "2.56e+03",
            "2.62e+03",
            "2.68e+03",
            "2.73e+03"
           ],
           [
            "86",
            "82",
            "78.3",
            "74.8",
            "71.6",
            "68.5",
            "65.7",
            "63",
            "47.1",
            "45.4",
            "43.8",
            "42.3",
            "40.9",
            "39.5",
            "38.2",
            "36.9",
            "35.7",
            "22.7",
            "22.1",
            "21.6",
            "21",
            "20.5",
            "20",
            "19.5"
           ],
           [
            "176",
            "163",
            "151",
            "141",
            "131",
            "122",
            "114",
            "107",
            "169",
            "159",
            "150",
            "142",
            "134",
            "127",
            "120",
            "114",
            "108",
            "67.5",
            "64.6",
            "61.9",
            "59.3",
            "56.8",
            "54.5",
            "52.3"
           ],
           [
            "-69.8",
            "-64.7",
            "-60.1",
            "-55.9",
            "-52.1",
            "-48.6",
            "-45.3",
            "-42.4",
            "-67",
            "-63.2",
            "-59.7",
            "-56.4",
            "-53.3",
            "-50.4",
            "-47.8",
            "-45.3",
            "-42.9",
            "26.8",
            "25.7",
            "24.6",
            "23.5",
            "22.6",
            "21.6",
            "20.8"
           ],
           [
            "0.00894",
            "0.00799",
            "0.00716",
            "0.00642",
            "0.00577",
            "0.0052",
            "0.00469",
            "0.00424",
            "0.00862",
            "0.00789",
            "0.00723",
            "0.00663",
            "0.0061",
            "0.00561",
            "0.00516",
            "0.00476",
            "0.00439",
            "0.00888",
            "0.00832",
            "0.00779",
            "0.00731",
            "0.00686",
            "0.00644",
            "0.00605"
           ],
           [
            "0.00355",
            "0.00317",
            "0.00284",
            "0.00255",
            "0.00229",
            "0.00206",
            "0.00186",
            "0.00168",
            "0.00342",
            "0.00313",
            "0.00287",
            "0.00264",
            "0.00242",
            "0.00223",
            "0.00205",
            "0.00189",
            "0.00175",
            "0.00353",
            "0.0033",
            "0.0031",
            "0.0029",
            "0.00272",
            "0.00256",
            "0.0024"
           ],
           [
            "10.3",
            "10.9",
            "11.5",
            "12.1",
            "12.8",
            "13.5",
            "14.2",
            "15",
            "21.8",
            "22.8",
            "23.8",
            "24.9",
            "25.9",
            "27",
            "28.2",
            "29.3",
            "30.5",
            "54.5",
            "56.3",
            "58.1",
            "60",
            "61.9",
            "63.9",
            "65.9"
           ]
          ]
         },
         "columnwidth": [
          1,
          1,
          2,
          2,
          2,
          3,
          3,
          3,
          3,
          3,
          3,
          3,
          3,
          3
         ],
         "header": {
          "align": "left",
          "fill": {
           "color": "paleturquoise"
          },
          "values": [
           "n1",
           "n2",
           "frequency (GHz)",
           "dipole_matrix_element (D)",
           "Gamma_p (kHz)",
           "|g_0_max| (kHz)",
           "g_0_avg (kHz)",
           "|E_zpf_max| (mV / cm)",
           "E_zpf_avg (mV / cm)",
           "driving_power (mW)"
          ]
         },
         "type": "table"
        }
       ],
       "layout": {
        "template": {
         "data": {
          "bar": [
           {
            "error_x": {
             "color": "#2a3f5f"
            },
            "error_y": {
             "color": "#2a3f5f"
            },
            "marker": {
             "line": {
              "color": "#E5ECF6",
              "width": 0.5
             },
             "pattern": {
              "fillmode": "overlay",
              "size": 10,
              "solidity": 0.2
             }
            },
            "type": "bar"
           }
          ],
          "barpolar": [
           {
            "marker": {
             "line": {
              "color": "#E5ECF6",
              "width": 0.5
             },
             "pattern": {
              "fillmode": "overlay",
              "size": 10,
              "solidity": 0.2
             }
            },
            "type": "barpolar"
           }
          ],
          "carpet": [
           {
            "aaxis": {
             "endlinecolor": "#2a3f5f",
             "gridcolor": "white",
             "linecolor": "white",
             "minorgridcolor": "white",
             "startlinecolor": "#2a3f5f"
            },
            "baxis": {
             "endlinecolor": "#2a3f5f",
             "gridcolor": "white",
             "linecolor": "white",
             "minorgridcolor": "white",
             "startlinecolor": "#2a3f5f"
            },
            "type": "carpet"
           }
          ],
          "choropleth": [
           {
            "colorbar": {
             "outlinewidth": 0,
             "ticks": ""
            },
            "type": "choropleth"
           }
          ],
          "contour": [
           {
            "colorbar": {
             "outlinewidth": 0,
             "ticks": ""
            },
            "colorscale": [
             [
              0,
              "#0d0887"
             ],
             [
              0.1111111111111111,
              "#46039f"
             ],
             [
              0.2222222222222222,
              "#7201a8"
             ],
             [
              0.3333333333333333,
              "#9c179e"
             ],
             [
              0.4444444444444444,
              "#bd3786"
             ],
             [
              0.5555555555555556,
              "#d8576b"
             ],
             [
              0.6666666666666666,
              "#ed7953"
             ],
             [
              0.7777777777777778,
              "#fb9f3a"
             ],
             [
              0.8888888888888888,
              "#fdca26"
             ],
             [
              1,
              "#f0f921"
             ]
            ],
            "type": "contour"
           }
          ],
          "contourcarpet": [
           {
            "colorbar": {
             "outlinewidth": 0,
             "ticks": ""
            },
            "type": "contourcarpet"
           }
          ],
          "heatmap": [
           {
            "colorbar": {
             "outlinewidth": 0,
             "ticks": ""
            },
            "colorscale": [
             [
              0,
              "#0d0887"
             ],
             [
              0.1111111111111111,
              "#46039f"
             ],
             [
              0.2222222222222222,
              "#7201a8"
             ],
             [
              0.3333333333333333,
              "#9c179e"
             ],
             [
              0.4444444444444444,
              "#bd3786"
             ],
             [
              0.5555555555555556,
              "#d8576b"
             ],
             [
              0.6666666666666666,
              "#ed7953"
             ],
             [
              0.7777777777777778,
              "#fb9f3a"
             ],
             [
              0.8888888888888888,
              "#fdca26"
             ],
             [
              1,
              "#f0f921"
             ]
            ],
            "type": "heatmap"
           }
          ],
          "histogram": [
           {
            "marker": {
             "pattern": {
              "fillmode": "overlay",
              "size": 10,
              "solidity": 0.2
             }
            },
            "type": "histogram"
           }
          ],
          "histogram2d": [
           {
            "colorbar": {
             "outlinewidth": 0,
             "ticks": ""
            },
            "colorscale": [
             [
              0,
              "#0d0887"
             ],
             [
              0.1111111111111111,
              "#46039f"
             ],
             [
              0.2222222222222222,
              "#7201a8"
             ],
             [
              0.3333333333333333,
              "#9c179e"
             ],
             [
              0.4444444444444444,
              "#bd3786"
             ],
             [
              0.5555555555555556,
              "#d8576b"
             ],
             [
              0.6666666666666666,
              "#ed7953"
             ],
             [
              0.7777777777777778,
              "#fb9f3a"
             ],
             [
              0.8888888888888888,
              "#fdca26"
             ],
             [
              1,
              "#f0f921"
             ]
            ],
            "type": "histogram2d"
           }
          ],
          "histogram2dcontour": [
           {
            "colorbar": {
             "outlinewidth": 0,
             "ticks": ""
            },
            "colorscale": [
             [
              0,
              "#0d0887"
             ],
             [
              0.1111111111111111,
              "#46039f"
             ],
             [
              0.2222222222222222,
              "#7201a8"
             ],
             [
              0.3333333333333333,
              "#9c179e"
             ],
             [
              0.4444444444444444,
              "#bd3786"
             ],
             [
              0.5555555555555556,
              "#d8576b"
             ],
             [
              0.6666666666666666,
              "#ed7953"
             ],
             [
              0.7777777777777778,
              "#fb9f3a"
             ],
             [
              0.8888888888888888,
              "#fdca26"
             ],
             [
              1,
              "#f0f921"
             ]
            ],
            "type": "histogram2dcontour"
           }
          ],
          "mesh3d": [
           {
            "colorbar": {
             "outlinewidth": 0,
             "ticks": ""
            },
            "type": "mesh3d"
           }
          ],
          "parcoords": [
           {
            "line": {
             "colorbar": {
              "outlinewidth": 0,
              "ticks": ""
             }
            },
            "type": "parcoords"
           }
          ],
          "pie": [
           {
            "automargin": true,
            "type": "pie"
           }
          ],
          "scatter": [
           {
            "fillpattern": {
             "fillmode": "overlay",
             "size": 10,
             "solidity": 0.2
            },
            "type": "scatter"
           }
          ],
          "scatter3d": [
           {
            "line": {
             "colorbar": {
              "outlinewidth": 0,
              "ticks": ""
             }
            },
            "marker": {
             "colorbar": {
              "outlinewidth": 0,
              "ticks": ""
             }
            },
            "type": "scatter3d"
           }
          ],
          "scattercarpet": [
           {
            "marker": {
             "colorbar": {
              "outlinewidth": 0,
              "ticks": ""
             }
            },
            "type": "scattercarpet"
           }
          ],
          "scattergeo": [
           {
            "marker": {
             "colorbar": {
              "outlinewidth": 0,
              "ticks": ""
             }
            },
            "type": "scattergeo"
           }
          ],
          "scattergl": [
           {
            "marker": {
             "colorbar": {
              "outlinewidth": 0,
              "ticks": ""
             }
            },
            "type": "scattergl"
           }
          ],
          "scattermap": [
           {
            "marker": {
             "colorbar": {
              "outlinewidth": 0,
              "ticks": ""
             }
            },
            "type": "scattermap"
           }
          ],
          "scattermapbox": [
           {
            "marker": {
             "colorbar": {
              "outlinewidth": 0,
              "ticks": ""
             }
            },
            "type": "scattermapbox"
           }
          ],
          "scatterpolar": [
           {
            "marker": {
             "colorbar": {
              "outlinewidth": 0,
              "ticks": ""
             }
            },
            "type": "scatterpolar"
           }
          ],
          "scatterpolargl": [
           {
            "marker": {
             "colorbar": {
              "outlinewidth": 0,
              "ticks": ""
             }
            },
            "type": "scatterpolargl"
           }
          ],
          "scatterternary": [
           {
            "marker": {
             "colorbar": {
              "outlinewidth": 0,
              "ticks": ""
             }
            },
            "type": "scatterternary"
           }
          ],
          "surface": [
           {
            "colorbar": {
             "outlinewidth": 0,
             "ticks": ""
            },
            "colorscale": [
             [
              0,
              "#0d0887"
             ],
             [
              0.1111111111111111,
              "#46039f"
             ],
             [
              0.2222222222222222,
              "#7201a8"
             ],
             [
              0.3333333333333333,
              "#9c179e"
             ],
             [
              0.4444444444444444,
              "#bd3786"
             ],
             [
              0.5555555555555556,
              "#d8576b"
             ],
             [
              0.6666666666666666,
              "#ed7953"
             ],
             [
              0.7777777777777778,
              "#fb9f3a"
             ],
             [
              0.8888888888888888,
              "#fdca26"
             ],
             [
              1,
              "#f0f921"
             ]
            ],
            "type": "surface"
           }
          ],
          "table": [
           {
            "cells": {
             "fill": {
              "color": "#EBF0F8"
             },
             "line": {
              "color": "white"
             }
            },
            "header": {
             "fill": {
              "color": "#C8D4E3"
             },
             "line": {
              "color": "white"
             }
            },
            "type": "table"
           }
          ]
         },
         "layout": {
          "annotationdefaults": {
           "arrowcolor": "#2a3f5f",
           "arrowhead": 0,
           "arrowwidth": 1
          },
          "autotypenumbers": "strict",
          "coloraxis": {
           "colorbar": {
            "outlinewidth": 0,
            "ticks": ""
           }
          },
          "colorscale": {
           "diverging": [
            [
             0,
             "#8e0152"
            ],
            [
             0.1,
             "#c51b7d"
            ],
            [
             0.2,
             "#de77ae"
            ],
            [
             0.3,
             "#f1b6da"
            ],
            [
             0.4,
             "#fde0ef"
            ],
            [
             0.5,
             "#f7f7f7"
            ],
            [
             0.6,
             "#e6f5d0"
            ],
            [
             0.7,
             "#b8e186"
            ],
            [
             0.8,
             "#7fbc41"
            ],
            [
             0.9,
             "#4d9221"
            ],
            [
             1,
             "#276419"
            ]
           ],
           "sequential": [
            [
             0,
             "#0d0887"
            ],
            [
             0.1111111111111111,
             "#46039f"
            ],
            [
             0.2222222222222222,
             "#7201a8"
            ],
            [
             0.3333333333333333,
             "#9c179e"
            ],
            [
             0.4444444444444444,
             "#bd3786"
            ],
            [
             0.5555555555555556,
             "#d8576b"
            ],
            [
             0.6666666666666666,
             "#ed7953"
            ],
            [
             0.7777777777777778,
             "#fb9f3a"
            ],
            [
             0.8888888888888888,
             "#fdca26"
            ],
            [
             1,
             "#f0f921"
            ]
           ],
           "sequentialminus": [
            [
             0,
             "#0d0887"
            ],
            [
             0.1111111111111111,
             "#46039f"
            ],
            [
             0.2222222222222222,
             "#7201a8"
            ],
            [
             0.3333333333333333,
             "#9c179e"
            ],
            [
             0.4444444444444444,
             "#bd3786"
            ],
            [
             0.5555555555555556,
             "#d8576b"
            ],
            [
             0.6666666666666666,
             "#ed7953"
            ],
            [
             0.7777777777777778,
             "#fb9f3a"
            ],
            [
             0.8888888888888888,
             "#fdca26"
            ],
            [
             1,
             "#f0f921"
            ]
           ]
          },
          "colorway": [
           "#636efa",
           "#EF553B",
           "#00cc96",
           "#ab63fa",
           "#FFA15A",
           "#19d3f3",
           "#FF6692",
           "#B6E880",
           "#FF97FF",
           "#FECB52"
          ],
          "font": {
           "color": "#2a3f5f"
          },
          "geo": {
           "bgcolor": "white",
           "lakecolor": "white",
           "landcolor": "#E5ECF6",
           "showlakes": true,
           "showland": true,
           "subunitcolor": "white"
          },
          "hoverlabel": {
           "align": "left"
          },
          "hovermode": "closest",
          "mapbox": {
           "style": "light"
          },
          "paper_bgcolor": "white",
          "plot_bgcolor": "#E5ECF6",
          "polar": {
           "angularaxis": {
            "gridcolor": "white",
            "linecolor": "white",
            "ticks": ""
           },
           "bgcolor": "#E5ECF6",
           "radialaxis": {
            "gridcolor": "white",
            "linecolor": "white",
            "ticks": ""
           }
          },
          "scene": {
           "xaxis": {
            "backgroundcolor": "#E5ECF6",
            "gridcolor": "white",
            "gridwidth": 2,
            "linecolor": "white",
            "showbackground": true,
            "ticks": "",
            "zerolinecolor": "white"
           },
           "yaxis": {
            "backgroundcolor": "#E5ECF6",
            "gridcolor": "white",
            "gridwidth": 2,
            "linecolor": "white",
            "showbackground": true,
            "ticks": "",
            "zerolinecolor": "white"
           },
           "zaxis": {
            "backgroundcolor": "#E5ECF6",
            "gridcolor": "white",
            "gridwidth": 2,
            "linecolor": "white",
            "showbackground": true,
            "ticks": "",
            "zerolinecolor": "white"
           }
          },
          "shapedefaults": {
           "line": {
            "color": "#2a3f5f"
           }
          },
          "ternary": {
           "aaxis": {
            "gridcolor": "white",
            "linecolor": "white",
            "ticks": ""
           },
           "baxis": {
            "gridcolor": "white",
            "linecolor": "white",
            "ticks": ""
           },
           "bgcolor": "#E5ECF6",
           "caxis": {
            "gridcolor": "white",
            "linecolor": "white",
            "ticks": ""
           }
          },
          "title": {
           "x": 0.05
          },
          "xaxis": {
           "automargin": true,
           "gridcolor": "white",
           "linecolor": "white",
           "ticks": "",
           "title": {
            "standoff": 15
           },
           "zerolinecolor": "white",
           "zerolinewidth": 2
          },
          "yaxis": {
           "automargin": true,
           "gridcolor": "white",
           "linecolor": "white",
           "ticks": "",
           "title": {
            "standoff": 15
           },
           "zerolinecolor": "white",
           "zerolinewidth": 2
          }
         }
        }
       }
      }
     },
     "metadata": {},
     "output_type": "display_data"
    }
   ],
   "source": [
    "import plotly.graph_objects as go\n",
    "\n",
    "# Create table from suitable_transitions\n",
    "def format_header(key, sample_value):\n",
    "    \"\"\"Format header with units in parentheses\"\"\"\n",
    "    if hasattr(sample_value, 'units'):\n",
    "        return f\"{key} ({sample_value.units:~})\"\n",
    "    else:\n",
    "        return key\n",
    "\n",
    "def format_value_magnitude(value):\n",
    "    \"\"\"Format value showing only magnitude for Pint quantities\"\"\"\n",
    "    if hasattr(value, 'magnitude'):\n",
    "        return f\"{value.magnitude:.3g}\"\n",
    "    else:\n",
    "        return str(value)\n",
    "\n",
    "fig = go.Figure(data=[go.Table(\n",
    "    header=dict(values=[format_header(key, suitable_transitions[0][key]) for key in suitable_transitions[0].keys()],\n",
    "                fill_color='paleturquoise',\n",
    "                align='left'),\n",
    "    cells=dict(values=[[format_value_magnitude(d[key]) for d in suitable_transitions] for key in suitable_transitions[0].keys()],\n",
    "               fill_color='lavender',\n",
    "               align='left'),\n",
    "    columnwidth=[1, 1, 2, 2, 2, 3, 3, 3, 3, 3, 3, 3, 3, 3]\n",
    ")])\n",
    "\n",
    "\n",
    "fig.show()\n",
    "fig.write_html(\"cavity_exploration.html\")\n"
   ]
  }
 ],
 "metadata": {
  "kernelspec": {
   "display_name": ".venv",
   "language": "python",
   "name": "python3"
  },
  "language_info": {
   "codemirror_mode": {
    "name": "ipython",
    "version": 3
   },
   "file_extension": ".py",
   "mimetype": "text/x-python",
   "name": "python",
   "nbconvert_exporter": "python",
   "pygments_lexer": "ipython3",
   "version": "3.12.11"
  }
 },
 "nbformat": 4,
 "nbformat_minor": 5
}
